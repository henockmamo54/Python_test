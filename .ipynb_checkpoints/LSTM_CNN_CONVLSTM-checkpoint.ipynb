{
 "cells": [
  {
   "cell_type": "code",
   "execution_count": 1,
   "metadata": {
    "id": "dQT_iF7zy22f"
   },
   "outputs": [],
   "source": [
    "import tensorflow as tf\n",
    "from tensorflow import keras \n",
    "import os \n",
    "import pandas as pd\n",
    "from PIL import Image\n",
    "import numpy as np\n",
    "from matplotlib import pyplot as plt\n",
    "from tensorflow.keras import *\n",
    "from tensorflow.keras import layers"
   ]
  },
  {
   "cell_type": "markdown",
   "metadata": {
    "id": "5XyCBb7nClY-"
   },
   "source": [
    "read the files under /image direcory and sort by the time value."
   ]
  },
  {
   "cell_type": "code",
   "execution_count": 2,
   "metadata": {
    "id": "vyBKSI3Gy-pL"
   },
   "outputs": [],
   "source": [
    "images_name= os.listdir(\"./images\")\n",
    "\n",
    "rename=lambda x : (int)(x.replace('prb-heat-map-','').split('-')[0])+ (int)(x.replace('prb-heat-map-','').split('-')[1].replace('.png',''))/10\n",
    "modified_name=[rename(x) for x in images_name]\n",
    "\n",
    "data= pd .DataFrame()\n",
    "data[\"FileName\"]= images_name\n",
    "data[\"SequenceNumber\"]= modified_name\n",
    "data=data.sort_values(by=[\"SequenceNumber\"]).reset_index(drop=True)\n",
    "data[\"Good\"]=1 # to track the goodness of the image or to idnetify if there is error reading the image"
   ]
  },
  {
   "cell_type": "markdown",
   "metadata": {
    "id": "1LbNy61LCgQL"
   },
   "source": [
    "Generate sample gif file"
   ]
  },
  {
   "cell_type": "code",
   "execution_count": 3,
   "metadata": {
    "id": "RPE7zgXc6bPI"
   },
   "outputs": [],
   "source": [
    "# imgs = (Image.open(\"./images/\"+f) for f in data.FileName[:25])\n",
    "# img = next(imgs)  # extract first image from iterator\n",
    "# img.save(fp='images.gif', format='GIF', append_images=imgs,\n",
    "#          save_all=True, duration=200, loop=0)"
   ]
  },
  {
   "cell_type": "code",
   "execution_count": 4,
   "metadata": {
    "scrolled": true
   },
   "outputs": [
    {
     "name": "stdout",
     "output_type": "stream",
     "text": [
      "Reading data  0\n",
      "Reading data  1\n",
      "Reading data  2\n",
      "Reading data  3\n",
      "Reading data  4\n",
      "Reading data  5\n",
      "Reading data  6\n",
      "Reading data  7\n",
      "Reading data  8\n",
      "Reading data  9\n",
      "Reading data  10\n",
      "Reading data  11\n",
      "Reading data  12\n",
      "Reading data  13\n",
      "Reading data  14\n",
      "Reading data  15\n",
      "Reading data  16\n",
      "Reading data  17\n",
      "Reading data  18\n",
      "Reading data  19\n",
      "Reading data  20\n",
      "Reading data  21\n",
      "Reading data  22\n",
      "Reading data  23\n",
      "Reading data  24\n",
      "Reading data  25\n",
      "Reading data  26\n",
      "Reading data  27\n",
      "Reading data  28\n",
      "Reading data  29\n",
      "Reading data  30\n",
      "Reading data  31\n",
      "Reading data  32\n",
      "Reading data  33\n",
      "Reading data  34\n",
      "Reading data  35\n",
      "Reading data  36\n",
      "Reading data  37\n",
      "Reading data  38\n",
      "Reading data  39\n",
      "Reading data  40\n",
      "Reading data  41\n",
      "Reading data  42\n",
      "Reading data  43\n",
      "Reading data  44\n",
      "Reading data  45\n",
      "Reading data  46\n",
      "Reading data  47\n",
      "Reading data  48\n",
      "Reading data  49\n",
      "Reading data  50\n",
      "Reading data  51\n",
      "Reading data  52\n",
      "Reading data  53\n",
      "Reading data  54\n",
      "Reading data  55\n",
      "Reading data  56\n",
      "Reading data  57\n",
      "Reading data  58\n",
      "Reading data  59\n",
      "Reading data  60\n",
      "Reading data  61\n",
      "Reading data  62\n",
      "Reading data  63\n",
      "Reading data  64\n",
      "Reading data  65\n",
      "Reading data  66\n",
      "Reading data  67\n",
      "Reading data  68\n",
      "Reading data  69\n",
      "Reading data  70\n",
      "Reading data  71\n",
      "Reading data  72\n",
      "Reading data  73\n",
      "Reading data  74\n",
      "Reading data  75\n",
      "Reading data  76\n",
      "Reading data  77\n",
      "Reading data  78\n",
      "Reading data  79\n",
      "Reading data  80\n",
      "Reading data  81\n",
      "Reading data  82\n",
      "Reading data  83\n",
      "Reading data  84\n",
      "Reading data  85\n",
      "Reading data  86\n",
      "Reading data  87\n",
      "Reading data  88\n",
      "Reading data  89\n",
      "Reading data  90\n",
      "Reading data  91\n",
      "Reading data  92\n",
      "Reading data  93\n",
      "Reading data  94\n",
      "Reading data  95\n",
      "Reading data  96\n",
      "Reading data  97\n",
      "Reading data  98\n",
      "Reading data  99\n",
      "Reading data  100\n",
      "Reading data  101\n",
      "Reading data  102\n",
      "Reading data  103\n",
      "Reading data  104\n",
      "Reading data  105\n",
      "Reading data  106\n",
      "Reading data  107\n",
      "Reading data  108\n",
      "Reading data  109\n",
      "Reading data  110\n",
      "Reading data  111\n",
      "Reading data  112\n",
      "Reading data  113\n",
      "Reading data  114\n",
      "Reading data  115\n",
      "Reading data  116\n",
      "Reading data  117\n",
      "Reading data  118\n",
      "Reading data  119\n",
      "Reading data  120\n",
      "Reading data  121\n",
      "Reading data  122\n",
      "Reading data  123\n",
      "Reading data  124\n",
      "Reading data  125\n",
      "Reading data  126\n",
      "Reading data  127\n",
      "Reading data  128\n",
      "Reading data  129\n",
      "Reading data  130\n",
      "Reading data  131\n",
      "Reading data  132\n",
      "Reading data  133\n",
      "Reading data  134\n",
      "Reading data  135\n",
      "Reading data  136\n",
      "Reading data  137\n",
      "Reading data  138\n",
      "Reading data  139\n",
      "Reading data  140\n",
      "Reading data  141\n",
      "Reading data  142\n",
      "Reading data  143\n",
      "Reading data  144\n",
      "Reading data  145\n",
      "Reading data  146\n",
      "Reading data  147\n",
      "Reading data  148\n",
      "Reading data  149\n",
      "Reading data  150\n",
      "Reading data  151\n",
      "Reading data  152\n",
      "Reading data  153\n",
      "Reading data  154\n",
      "Reading data  155\n",
      "Reading data  156\n",
      "Reading data  157\n",
      "Reading data  158\n",
      "Reading data  159\n",
      "Reading data  160\n",
      "Reading data  161\n",
      "Reading data  162\n",
      "Reading data  163\n",
      "Reading data  164\n",
      "Reading data  165\n",
      "Reading data  166\n",
      "Reading data  167\n",
      "Reading data  168\n",
      "Reading data  169\n",
      "Reading data  170\n",
      "Reading data  171\n",
      "Reading data  172\n",
      "Reading data  173\n",
      "Reading data  174\n",
      "Reading data  175\n",
      "Reading data  176\n",
      "Reading data  177\n",
      "Reading data  178\n",
      "Reading data  179\n",
      "Reading data  180\n",
      "Reading data  181\n",
      "Reading data  182\n",
      "Reading data  183\n",
      "Reading data  184\n",
      "Reading data  185\n",
      "Reading data  186\n",
      "Reading data  187\n",
      "Reading data  188\n",
      "Reading data  189\n",
      "Reading data  190\n",
      "Reading data  191\n",
      "Reading data  192\n",
      "Reading data  193\n",
      "Reading data  194\n",
      "Reading data  195\n",
      "Reading data  196\n",
      "Reading data  197\n",
      "Reading data  198\n",
      "Reading data  199\n",
      "Reading data  200\n",
      "Reading data  201\n",
      "Reading data  202\n",
      "Reading data  203\n",
      "Reading data  204\n",
      "Reading data  205\n",
      "Reading data  206\n",
      "Reading data  207\n",
      "Reading data  208\n",
      "Reading data  209\n",
      "error image file is truncated\n",
      "Reading data  210\n",
      "Reading data  211\n",
      "Reading data  212\n",
      "Reading data  213\n",
      "Reading data  214\n",
      "Reading data  215\n",
      "Reading data  216\n",
      "Reading data  217\n",
      "Reading data  218\n",
      "Reading data  219\n",
      "Reading data  220\n",
      "Reading data  221\n",
      "Reading data  222\n",
      "Reading data  223\n",
      "Reading data  224\n",
      "Reading data  225\n",
      "Reading data  226\n",
      "Reading data  227\n",
      "Reading data  228\n",
      "Reading data  229\n",
      "Reading data  230\n",
      "Reading data  231\n",
      "Reading data  232\n",
      "Reading data  233\n",
      "Reading data  234\n",
      "Reading data  235\n",
      "Reading data  236\n",
      "Reading data  237\n",
      "Reading data  238\n",
      "Reading data  239\n",
      "Reading data  240\n",
      "Reading data  241\n",
      "Reading data  242\n",
      "Reading data  243\n",
      "Reading data  244\n",
      "Reading data  245\n",
      "Reading data  246\n",
      "Reading data  247\n",
      "Reading data  248\n",
      "Reading data  249\n",
      "Reading data  250\n",
      "Reading data  251\n",
      "Reading data  252\n",
      "Reading data  253\n",
      "Reading data  254\n",
      "Reading data  255\n",
      "Reading data  256\n",
      "Reading data  257\n",
      "Reading data  258\n",
      "Reading data  259\n",
      "Reading data  260\n",
      "Reading data  261\n",
      "Reading data  262\n",
      "Reading data  263\n",
      "Reading data  264\n",
      "Reading data  265\n",
      "Reading data  266\n",
      "Reading data  267\n",
      "Reading data  268\n",
      "Reading data  269\n",
      "Reading data  270\n",
      "Reading data  271\n",
      "Reading data  272\n",
      "Reading data  273\n",
      "Reading data  274\n",
      "Reading data  275\n",
      "Reading data  276\n",
      "Reading data  277\n",
      "Reading data  278\n",
      "Reading data  279\n",
      "Reading data  280\n",
      "Reading data  281\n",
      "Reading data  282\n",
      "Reading data  283\n",
      "Reading data  284\n",
      "Reading data  285\n",
      "Reading data  286\n",
      "Reading data  287\n",
      "Reading data  288\n",
      "Reading data  289\n",
      "Reading data  290\n",
      "Reading data  291\n",
      "Reading data  292\n",
      "Reading data  293\n",
      "Reading data  294\n",
      "Reading data  295\n",
      "Reading data  296\n",
      "Reading data  297\n",
      "Reading data  298\n",
      "Reading data  299\n",
      "Reading data  300\n",
      "Reading data  301\n",
      "Reading data  302\n",
      "Reading data  303\n",
      "Reading data  304\n",
      "Reading data  305\n",
      "Reading data  306\n",
      "Reading data  307\n",
      "Reading data  308\n",
      "Reading data  309\n",
      "Reading data  310\n",
      "Reading data  311\n",
      "Reading data  312\n",
      "Reading data  313\n",
      "Reading data  314\n",
      "Reading data  315\n",
      "Reading data  316\n",
      "Reading data  317\n",
      "Reading data  318\n",
      "Reading data  319\n",
      "Reading data  320\n",
      "Reading data  321\n",
      "Reading data  322\n",
      "Reading data  323\n",
      "Reading data  324\n",
      "Reading data  325\n",
      "Reading data  326\n",
      "Reading data  327\n",
      "Reading data  328\n",
      "Reading data  329\n",
      "Reading data  330\n",
      "Reading data  331\n",
      "Reading data  332\n",
      "Reading data  333\n",
      "Reading data  334\n",
      "Reading data  335\n",
      "Reading data  336\n",
      "Reading data  337\n",
      "Reading data  338\n",
      "Reading data  339\n",
      "Reading data  340\n",
      "Reading data  341\n",
      "Reading data  342\n",
      "Reading data  343\n",
      "Reading data  344\n",
      "Reading data  345\n",
      "Reading data  346\n",
      "Reading data  347\n",
      "Reading data  348\n",
      "Reading data  349\n",
      "Reading data  350\n",
      "Reading data  351\n",
      "Reading data  352\n",
      "Reading data  353\n",
      "Reading data  354\n",
      "Reading data  355\n",
      "Reading data  356\n",
      "Reading data  357\n",
      "Reading data  358\n",
      "Reading data  359\n",
      "Reading data  360\n",
      "Reading data  361\n",
      "Reading data  362\n",
      "Reading data  363\n",
      "Reading data  364\n",
      "Reading data  365\n",
      "Reading data  366\n",
      "Reading data  367\n",
      "Reading data  368\n",
      "Reading data  369\n",
      "Reading data  370\n",
      "Reading data  371\n",
      "Reading data  372\n",
      "Reading data  373\n",
      "Reading data  374\n",
      "Reading data  375\n",
      "Reading data  376\n",
      "Reading data  377\n",
      "Reading data  378\n",
      "Reading data  379\n",
      "Reading data  380\n",
      "Reading data  381\n",
      "Reading data  382\n",
      "Reading data  383\n",
      "Reading data  384\n",
      "Reading data  385\n",
      "Reading data  386\n",
      "Reading data  387\n",
      "Reading data  388\n",
      "Reading data  389\n",
      "Reading data  390\n",
      "Reading data  391\n",
      "Reading data  392\n",
      "Reading data  393\n",
      "Reading data  394\n",
      "Reading data  395\n",
      "Reading data  396\n",
      "Reading data  397\n",
      "Reading data  398\n",
      "Reading data  399\n",
      "Reading data  400\n",
      "Reading data  401\n",
      "Reading data  402\n",
      "Reading data  403\n",
      "Reading data  404\n",
      "Reading data  405\n",
      "Reading data  406\n",
      "Reading data  407\n",
      "Reading data  408\n",
      "Reading data  409\n",
      "Reading data  410\n",
      "Reading data  411\n",
      "Reading data  412\n",
      "Reading data  413\n",
      "Reading data  414\n",
      "Reading data  415\n",
      "Reading data  416\n",
      "Reading data  417\n",
      "Reading data  418\n",
      "Reading data  419\n",
      "Reading data  420\n",
      "Reading data  421\n",
      "Reading data  422\n",
      "Reading data  423\n",
      "Reading data  424\n",
      "Reading data  425\n",
      "Reading data  426\n",
      "Reading data  427\n",
      "Reading data  428\n",
      "Reading data  429\n",
      "Reading data  430\n",
      "Reading data  431\n",
      "Reading data  432\n",
      "Reading data  433\n",
      "Reading data  434\n",
      "Reading data  435\n",
      "Reading data  436\n",
      "Reading data  437\n",
      "Reading data  438\n",
      "Reading data  439\n",
      "Reading data  440\n",
      "Reading data  441\n",
      "Reading data  442\n",
      "Reading data  443\n",
      "Reading data  444\n",
      "Reading data  445\n",
      "Reading data  446\n",
      "Reading data  447\n",
      "Reading data  448\n",
      "Reading data  449\n",
      "Reading data  450\n",
      "Reading data  451\n",
      "Reading data  452\n",
      "Reading data  453\n",
      "Reading data  454\n",
      "Reading data  455\n",
      "Reading data  456\n",
      "Reading data  457\n",
      "Reading data  458\n",
      "Reading data  459\n"
     ]
    },
    {
     "name": "stdout",
     "output_type": "stream",
     "text": [
      "Reading data  460\n",
      "Reading data  461\n",
      "Reading data  462\n",
      "Reading data  463\n",
      "Reading data  464\n",
      "Reading data  465\n",
      "Reading data  466\n",
      "Reading data  467\n",
      "Reading data  468\n",
      "Reading data  469\n",
      "Reading data  470\n",
      "Reading data  471\n",
      "Reading data  472\n",
      "Reading data  473\n",
      "Reading data  474\n",
      "Reading data  475\n",
      "Reading data  476\n",
      "Reading data  477\n",
      "Reading data  478\n",
      "Reading data  479\n",
      "Reading data  480\n",
      "Reading data  481\n",
      "Reading data  482\n",
      "Reading data  483\n",
      "Reading data  484\n",
      "Reading data  485\n",
      "Reading data  486\n",
      "Reading data  487\n",
      "Reading data  488\n",
      "Reading data  489\n",
      "Reading data  490\n",
      "Reading data  491\n",
      "Reading data  492\n",
      "Reading data  493\n",
      "Reading data  494\n",
      "Reading data  495\n",
      "Reading data  496\n",
      "Reading data  497\n",
      "Reading data  498\n",
      "Reading data  499\n",
      "Reading data  500\n",
      "Reading data  501\n",
      "Reading data  502\n",
      "Reading data  503\n",
      "Reading data  504\n",
      "Reading data  505\n",
      "Reading data  506\n",
      "Reading data  507\n",
      "Reading data  508\n",
      "Reading data  509\n",
      "Reading data  510\n",
      "Reading data  511\n",
      "Reading data  512\n",
      "Reading data  513\n",
      "Reading data  514\n",
      "Reading data  515\n",
      "Reading data  516\n",
      "Reading data  517\n",
      "Reading data  518\n",
      "Reading data  519\n",
      "Reading data  520\n",
      "Reading data  521\n",
      "Reading data  522\n",
      "Reading data  523\n",
      "Reading data  524\n",
      "Reading data  525\n",
      "Reading data  526\n",
      "Reading data  527\n",
      "Reading data  528\n",
      "Reading data  529\n",
      "Reading data  530\n",
      "Reading data  531\n",
      "Reading data  532\n",
      "Reading data  533\n",
      "Reading data  534\n",
      "Reading data  535\n",
      "Reading data  536\n",
      "Reading data  537\n",
      "Reading data  538\n",
      "Reading data  539\n",
      "Reading data  540\n",
      "Reading data  541\n",
      "Reading data  542\n",
      "Reading data  543\n",
      "Reading data  544\n",
      "Reading data  545\n",
      "Reading data  546\n",
      "Reading data  547\n",
      "Reading data  548\n",
      "Reading data  549\n",
      "Reading data  550\n",
      "Reading data  551\n",
      "Reading data  552\n",
      "Reading data  553\n",
      "Reading data  554\n",
      "Reading data  555\n",
      "Reading data  556\n",
      "Reading data  557\n",
      "Reading data  558\n",
      "Reading data  559\n",
      "Reading data  560\n",
      "Reading data  561\n",
      "Reading data  562\n",
      "Reading data  563\n",
      "Reading data  564\n",
      "Reading data  565\n",
      "Reading data  566\n",
      "Reading data  567\n",
      "Reading data  568\n",
      "Reading data  569\n",
      "Reading data  570\n",
      "Reading data  571\n",
      "Reading data  572\n",
      "Reading data  573\n",
      "Reading data  574\n",
      "Reading data  575\n",
      "Reading data  576\n",
      "Reading data  577\n",
      "Reading data  578\n",
      "Reading data  579\n",
      "Reading data  580\n",
      "Reading data  581\n",
      "Reading data  582\n",
      "Reading data  583\n",
      "Reading data  584\n",
      "Reading data  585\n",
      "Reading data  586\n",
      "Reading data  587\n",
      "Reading data  588\n",
      "Reading data  589\n",
      "Reading data  590\n",
      "Reading data  591\n",
      "Reading data  592\n",
      "Reading data  593\n",
      "Reading data  594\n",
      "Reading data  595\n",
      "Reading data  596\n",
      "Reading data  597\n",
      "Reading data  598\n",
      "Reading data  599\n",
      "Reading data  600\n",
      "Reading data  601\n",
      "Reading data  602\n",
      "Reading data  603\n",
      "Reading data  604\n",
      "Reading data  605\n",
      "Reading data  606\n",
      "Reading data  607\n",
      "Reading data  608\n",
      "Reading data  609\n",
      "Reading data  610\n",
      "Reading data  611\n",
      "Reading data  612\n",
      "Reading data  613\n",
      "Reading data  614\n",
      "Reading data  615\n",
      "Reading data  616\n",
      "Reading data  617\n",
      "Reading data  618\n",
      "Reading data  619\n",
      "Reading data  620\n",
      "Reading data  621\n",
      "Reading data  622\n",
      "Reading data  623\n",
      "Reading data  624\n",
      "Reading data  625\n",
      "Reading data  626\n",
      "Reading data  627\n",
      "Reading data  628\n",
      "Reading data  629\n",
      "Reading data  630\n",
      "Reading data  631\n",
      "Reading data  632\n",
      "Reading data  633\n",
      "Reading data  634\n",
      "Reading data  635\n",
      "Reading data  636\n",
      "Reading data  637\n",
      "Reading data  638\n",
      "Reading data  639\n",
      "Reading data  640\n",
      "Reading data  641\n",
      "Reading data  642\n",
      "Reading data  643\n",
      "Reading data  644\n",
      "Reading data  645\n",
      "Reading data  646\n",
      "Reading data  647\n",
      "Reading data  648\n",
      "Reading data  649\n",
      "Reading data  650\n",
      "Reading data  651\n",
      "Reading data  652\n",
      "Reading data  653\n",
      "Reading data  654\n",
      "Reading data  655\n",
      "Reading data  656\n",
      "Reading data  657\n",
      "Reading data  658\n",
      "Reading data  659\n",
      "Reading data  660\n",
      "Reading data  661\n",
      "Reading data  662\n",
      "Reading data  663\n",
      "Reading data  664\n",
      "Reading data  665\n",
      "Reading data  666\n",
      "Reading data  667\n",
      "Reading data  668\n",
      "Reading data  669\n",
      "Reading data  670\n",
      "Reading data  671\n",
      "Reading data  672\n",
      "Reading data  673\n",
      "Reading data  674\n",
      "Reading data  675\n",
      "Reading data  676\n",
      "Reading data  677\n",
      "Reading data  678\n",
      "Reading data  679\n",
      "Reading data  680\n",
      "Reading data  681\n",
      "Reading data  682\n",
      "Reading data  683\n",
      "Reading data  684\n",
      "Reading data  685\n",
      "Reading data  686\n",
      "Reading data  687\n",
      "Reading data  688\n",
      "Reading data  689\n",
      "Reading data  690\n",
      "Reading data  691\n",
      "Reading data  692\n",
      "Reading data  693\n",
      "Reading data  694\n",
      "Reading data  695\n",
      "Reading data  696\n",
      "Reading data  697\n",
      "Reading data  698\n",
      "Reading data  699\n",
      "Reading data  700\n",
      "Reading data  701\n",
      "Reading data  702\n",
      "Reading data  703\n",
      "Reading data  704\n",
      "Reading data  705\n",
      "Reading data  706\n",
      "Reading data  707\n",
      "Reading data  708\n",
      "Reading data  709\n",
      "Reading data  710\n",
      "Reading data  711\n",
      "Reading data  712\n",
      "Reading data  713\n",
      "Reading data  714\n",
      "Reading data  715\n",
      "Reading data  716\n",
      "Reading data  717\n",
      "Reading data  718\n",
      "Reading data  719\n",
      "Reading data  720\n",
      "Reading data  721\n",
      "Reading data  722\n",
      "Reading data  723\n",
      "Reading data  724\n",
      "Reading data  725\n",
      "Reading data  726\n",
      "Reading data  727\n",
      "Reading data  728\n",
      "Reading data  729\n",
      "Reading data  730\n",
      "Reading data  731\n",
      "Reading data  732\n",
      "Reading data  733\n",
      "Reading data  734\n",
      "Reading data  735\n",
      "Reading data  736\n",
      "Reading data  737\n",
      "Reading data  738\n",
      "Reading data  739\n",
      "Reading data  740\n",
      "Reading data  741\n",
      "Reading data  742\n",
      "Reading data  743\n"
     ]
    }
   ],
   "source": [
    "all_images=[]\n",
    "for i in range(data.shape[0]):\n",
    "    try:\n",
    "        print(\"Reading data \", i)\n",
    "        temp = np.array(Image.open('./images/'+data.FileName[i]).resize((150,150)))[:,:,1]\n",
    "        all_images.append(temp)\n",
    "#         \n",
    "    except Exception as e:\n",
    "        print(\"error\",e)\n",
    "        data[i,\"Good\"]=0\n",
    "        continue\n",
    "        "
   ]
  },
  {
   "cell_type": "code",
   "execution_count": 5,
   "metadata": {},
   "outputs": [
    {
     "data": {
      "text/plain": [
       "(150, 150)"
      ]
     },
     "execution_count": 5,
     "metadata": {},
     "output_type": "execute_result"
    }
   ],
   "source": [
    "all_images[0].shape"
   ]
  },
  {
   "cell_type": "code",
   "execution_count": 6,
   "metadata": {},
   "outputs": [],
   "source": [
    "# training_x=[]\n",
    "# training_y=[]\n",
    "# window=20\n",
    "\n",
    "# for iter in range(0,589):\n",
    "#   print(\"Preparing training data \", iter)\n",
    "#   trining_data_temp=np.array(Image.open('./images/'+data.FileName[iter]))[:,:,1]\n",
    "#   for i in range(1,window):\n",
    "#     temp = np.array(Image.open('./images/'+data.FileName[i+iter]))[:,:,1]\n",
    "#     trining_data_temp=np.concatenate([temp,trining_data_temp],axis=1)\n",
    "\n",
    "#   training_x.append(trining_data_temp)\n",
    "#   training_y.append(np.array(Image.open('./images/'+data.FileName[i+1+iter]))[:,:,1])\n",
    "  \n",
    "\n",
    "\n"
   ]
  },
  {
   "cell_type": "code",
   "execution_count": 21,
   "metadata": {},
   "outputs": [],
   "source": [
    "training_x=[]\n",
    "training_y=[]\n",
    "window=20\n",
    "\n",
    "for i in range(len(all_images)-1-window):\n",
    "    temp=np.array(all_images[i:i+window])\n",
    "    reshaped_values= np.zeros((150,150,window))\n",
    "    for i in range(window):\n",
    "        reshaped_values[:,:,i]=temp[i,:,:]        \n",
    "    \n",
    "    training_x.append(reshaped_values)\n",
    "    training_y.append(np.array(all_images[window + i +1]).flatten())"
   ]
  },
  {
   "cell_type": "code",
   "execution_count": null,
   "metadata": {},
   "outputs": [],
   "source": []
  },
  {
   "cell_type": "code",
   "execution_count": 22,
   "metadata": {
    "scrolled": true
   },
   "outputs": [],
   "source": [
    "# training_x=[]\n",
    "# training_y=[]\n",
    "# window=20\n",
    "\n",
    "# for iter in range(len(all_images)-1-window):\n",
    "#   print(\"Preparing training data \", iter)\n",
    "#   trining_data_temp=all_images[iter]\n",
    "#   for i in range(1,window):\n",
    "#     temp = all_images[iter+i]\n",
    "#     trining_data_temp=np.stack([temp,trining_data_temp],axis=0)\n",
    "\n",
    "#   training_x.append(trining_data_temp)\n",
    "#   training_y.append(all_images[iter + i +1])"
   ]
  },
  {
   "cell_type": "code",
   "execution_count": null,
   "metadata": {},
   "outputs": [],
   "source": []
  },
  {
   "cell_type": "code",
   "execution_count": 23,
   "metadata": {},
   "outputs": [],
   "source": [
    "# training_x=np.array(training_x)\n",
    "# training_y=np.array(training_y)\n",
    "from sklearn.model_selection import train_test_split\n",
    "train_x,test_x,train_y,test_y= train_test_split(np.array(training_x),np.array(training_y), test_size=0.2, shuffle=True, random_state=0)"
   ]
  },
  {
   "cell_type": "code",
   "execution_count": 24,
   "metadata": {},
   "outputs": [
    {
     "data": {
      "text/plain": [
       "(577, 22500)"
      ]
     },
     "execution_count": 24,
     "metadata": {},
     "output_type": "execute_result"
    }
   ],
   "source": [
    "train_y.shape"
   ]
  },
  {
   "cell_type": "code",
   "execution_count": 25,
   "metadata": {},
   "outputs": [
    {
     "data": {
      "text/plain": [
       "(22500,)"
      ]
     },
     "execution_count": 25,
     "metadata": {},
     "output_type": "execute_result"
    }
   ],
   "source": [
    "test_y[0].shape"
   ]
  },
  {
   "cell_type": "code",
   "execution_count": null,
   "metadata": {},
   "outputs": [],
   "source": [
    "First Model"
   ]
  },
  {
   "cell_type": "code",
   "execution_count": 30,
   "metadata": {},
   "outputs": [],
   "source": [
    "model= tf.keras.models.Sequential()\n",
    "model.add(layers.Conv3D(64,3,input_shape=(150,150,20,1),padding=\"same\",activation=\"relu\"))\n",
    "model.add(layers.MaxPool3D())\n",
    "model.add(layers.BatchNormalization())\n",
    "model.add(layers.Dropout(0.3))\n",
    "\n",
    "model.add(layers.Conv3D(32,3,padding=\"same\",activation=\"relu\"))\n",
    "model.add(layers.BatchNormalization())\n",
    "model.add(layers.Dropout(0.3))\n",
    "\n",
    "model.add(layers.Conv3D(16,3,padding=\"same\",activation=\"relu\"))\n",
    "model.add(layers.MaxPool3D())\n",
    "model.add(layers.BatchNormalization())\n",
    "model.add(layers.Dropout(0.3)) \n",
    "\n",
    "model.add(layers.Conv3D(16,3,padding=\"same\",activation=\"relu\"))\n",
    "model.add(layers.MaxPool3D())\n",
    "model.add(layers.BatchNormalization())\n",
    "\n",
    "\n",
    "model.add(layers.Flatten())\n",
    "model.add(layers.Dense(units=1024, activation='relu'))\n",
    "model.add(layers.Dense(units=150*150))\n"
   ]
  },
  {
   "cell_type": "code",
   "execution_count": 31,
   "metadata": {
    "scrolled": false
   },
   "outputs": [
    {
     "name": "stdout",
     "output_type": "stream",
     "text": [
      "Model: \"sequential_4\"\n",
      "_________________________________________________________________\n",
      " Layer (type)                Output Shape              Param #   \n",
      "=================================================================\n",
      " conv3d_16 (Conv3D)          (None, 150, 150, 20, 64)  1792      \n",
      "                                                                 \n",
      " max_pooling3d_12 (MaxPoolin  (None, 75, 75, 10, 64)   0         \n",
      " g3D)                                                            \n",
      "                                                                 \n",
      " batch_normalization_16 (Bat  (None, 75, 75, 10, 64)   256       \n",
      " chNormalization)                                                \n",
      "                                                                 \n",
      " dropout_12 (Dropout)        (None, 75, 75, 10, 64)    0         \n",
      "                                                                 \n",
      " conv3d_17 (Conv3D)          (None, 75, 75, 10, 32)    55328     \n",
      "                                                                 \n",
      " batch_normalization_17 (Bat  (None, 75, 75, 10, 32)   128       \n",
      " chNormalization)                                                \n",
      "                                                                 \n",
      " dropout_13 (Dropout)        (None, 75, 75, 10, 32)    0         \n",
      "                                                                 \n",
      " conv3d_18 (Conv3D)          (None, 75, 75, 10, 16)    13840     \n",
      "                                                                 \n",
      " max_pooling3d_13 (MaxPoolin  (None, 37, 37, 5, 16)    0         \n",
      " g3D)                                                            \n",
      "                                                                 \n",
      " batch_normalization_18 (Bat  (None, 37, 37, 5, 16)    64        \n",
      " chNormalization)                                                \n",
      "                                                                 \n",
      " dropout_14 (Dropout)        (None, 37, 37, 5, 16)     0         \n",
      "                                                                 \n",
      " conv3d_19 (Conv3D)          (None, 37, 37, 5, 16)     6928      \n",
      "                                                                 \n",
      " max_pooling3d_14 (MaxPoolin  (None, 18, 18, 2, 16)    0         \n",
      " g3D)                                                            \n",
      "                                                                 \n",
      " batch_normalization_19 (Bat  (None, 18, 18, 2, 16)    64        \n",
      " chNormalization)                                                \n",
      "                                                                 \n",
      " flatten_4 (Flatten)         (None, 10368)             0         \n",
      "                                                                 \n",
      " dense_8 (Dense)             (None, 1024)              10617856  \n",
      "                                                                 \n",
      " dense_9 (Dense)             (None, 22500)             23062500  \n",
      "                                                                 \n",
      "=================================================================\n",
      "Total params: 33,758,756\n",
      "Trainable params: 33,758,500\n",
      "Non-trainable params: 256\n",
      "_________________________________________________________________\n"
     ]
    }
   ],
   "source": [
    "model.build()\n",
    "model.summary()"
   ]
  },
  {
   "cell_type": "code",
   "execution_count": 32,
   "metadata": {},
   "outputs": [],
   "source": [
    "initial_learning_rate = 0.0001\n",
    "lr_schedule = keras.optimizers.schedules.ExponentialDecay(\n",
    "    initial_learning_rate, decay_steps=100000, decay_rate=0.96, staircase=True\n",
    ")\n",
    "model.compile(\n",
    "    loss=\"mse\",\n",
    "    optimizer=keras.optimizers.Adam(learning_rate=lr_schedule),\n",
    "    metrics=[\"mse\"],\n",
    ")"
   ]
  },
  {
   "cell_type": "code",
   "execution_count": 35,
   "metadata": {
    "scrolled": true
   },
   "outputs": [
    {
     "name": "stdout",
     "output_type": "stream",
     "text": [
      "Epoch 1/100\n",
      "116/116 [==============================] - 1768s 15s/step - loss: 788.7175 - mse: 788.7175\n",
      "Epoch 2/100\n",
      "116/116 [==============================] - 1754s 15s/step - loss: 0.8695 - mse: 0.8695\n",
      "Epoch 3/100\n",
      "116/116 [==============================] - 1788s 15s/step - loss: 0.5742 - mse: 0.5742\n",
      "Epoch 4/100\n",
      "  1/116 [..............................] - ETA: 32:07 - loss: 0.2715 - mse: 0.2715"
     ]
    },
    {
     "ename": "KeyboardInterrupt",
     "evalue": "",
     "output_type": "error",
     "traceback": [
      "\u001b[1;31m---------------------------------------------------------------------------\u001b[0m",
      "\u001b[1;31mKeyboardInterrupt\u001b[0m                         Traceback (most recent call last)",
      "Input \u001b[1;32mIn [35]\u001b[0m, in \u001b[0;36m<cell line: 2>\u001b[1;34m()\u001b[0m\n\u001b[0;32m      1\u001b[0m epochs \u001b[38;5;241m=\u001b[39m \u001b[38;5;241m100\u001b[39m\n\u001b[1;32m----> 2\u001b[0m history\u001b[38;5;241m=\u001b[39m\u001b[43mmodel\u001b[49m\u001b[38;5;241;43m.\u001b[39;49m\u001b[43mfit\u001b[49m\u001b[43m(\u001b[49m\n\u001b[0;32m      3\u001b[0m \u001b[43m    \u001b[49m\u001b[43mx\u001b[49m\u001b[38;5;241;43m=\u001b[39;49m\u001b[43mtrain_x\u001b[49m\u001b[43m,\u001b[49m\u001b[43my\u001b[49m\u001b[38;5;241;43m=\u001b[39;49m\u001b[43mtrain_y\u001b[49m\u001b[43m,\u001b[49m\u001b[43mbatch_size\u001b[49m\u001b[38;5;241;43m=\u001b[39;49m\u001b[38;5;241;43m5\u001b[39;49m\u001b[43m,\u001b[49m\n\u001b[0;32m      4\u001b[0m \u001b[38;5;66;43;03m#     validation_data=validation_dataset,\u001b[39;49;00m\n\u001b[0;32m      5\u001b[0m \u001b[43m    \u001b[49m\u001b[43mepochs\u001b[49m\u001b[38;5;241;43m=\u001b[39;49m\u001b[43mepochs\u001b[49m\u001b[43m,\u001b[49m\n\u001b[0;32m      6\u001b[0m \u001b[43m    \u001b[49m\u001b[43mshuffle\u001b[49m\u001b[38;5;241;43m=\u001b[39;49m\u001b[38;5;28;43;01mTrue\u001b[39;49;00m\u001b[43m,\u001b[49m\n\u001b[0;32m      7\u001b[0m \u001b[43m    \u001b[49m\u001b[43mverbose\u001b[49m\u001b[38;5;241;43m=\u001b[39;49m\u001b[38;5;241;43m1\u001b[39;49m\u001b[43m,\u001b[49m\n\u001b[0;32m      8\u001b[0m \u001b[38;5;66;43;03m#     callbacks=[checkpoint_cb, early_stopping_cb],\u001b[39;49;00m\n\u001b[0;32m      9\u001b[0m \u001b[43m)\u001b[49m\n",
      "File \u001b[1;32m~\\.conda\\envs\\myenv\\lib\\site-packages\\keras\\utils\\traceback_utils.py:64\u001b[0m, in \u001b[0;36mfilter_traceback.<locals>.error_handler\u001b[1;34m(*args, **kwargs)\u001b[0m\n\u001b[0;32m     62\u001b[0m filtered_tb \u001b[38;5;241m=\u001b[39m \u001b[38;5;28;01mNone\u001b[39;00m\n\u001b[0;32m     63\u001b[0m \u001b[38;5;28;01mtry\u001b[39;00m:\n\u001b[1;32m---> 64\u001b[0m   \u001b[38;5;28;01mreturn\u001b[39;00m fn(\u001b[38;5;241m*\u001b[39margs, \u001b[38;5;241m*\u001b[39m\u001b[38;5;241m*\u001b[39mkwargs)\n\u001b[0;32m     65\u001b[0m \u001b[38;5;28;01mexcept\u001b[39;00m \u001b[38;5;167;01mException\u001b[39;00m \u001b[38;5;28;01mas\u001b[39;00m e:  \u001b[38;5;66;03m# pylint: disable=broad-except\u001b[39;00m\n\u001b[0;32m     66\u001b[0m   filtered_tb \u001b[38;5;241m=\u001b[39m _process_traceback_frames(e\u001b[38;5;241m.\u001b[39m__traceback__)\n",
      "File \u001b[1;32m~\\.conda\\envs\\myenv\\lib\\site-packages\\keras\\engine\\training.py:1384\u001b[0m, in \u001b[0;36mModel.fit\u001b[1;34m(self, x, y, batch_size, epochs, verbose, callbacks, validation_split, validation_data, shuffle, class_weight, sample_weight, initial_epoch, steps_per_epoch, validation_steps, validation_batch_size, validation_freq, max_queue_size, workers, use_multiprocessing)\u001b[0m\n\u001b[0;32m   1377\u001b[0m \u001b[38;5;28;01mwith\u001b[39;00m tf\u001b[38;5;241m.\u001b[39mprofiler\u001b[38;5;241m.\u001b[39mexperimental\u001b[38;5;241m.\u001b[39mTrace(\n\u001b[0;32m   1378\u001b[0m     \u001b[38;5;124m'\u001b[39m\u001b[38;5;124mtrain\u001b[39m\u001b[38;5;124m'\u001b[39m,\n\u001b[0;32m   1379\u001b[0m     epoch_num\u001b[38;5;241m=\u001b[39mepoch,\n\u001b[0;32m   1380\u001b[0m     step_num\u001b[38;5;241m=\u001b[39mstep,\n\u001b[0;32m   1381\u001b[0m     batch_size\u001b[38;5;241m=\u001b[39mbatch_size,\n\u001b[0;32m   1382\u001b[0m     _r\u001b[38;5;241m=\u001b[39m\u001b[38;5;241m1\u001b[39m):\n\u001b[0;32m   1383\u001b[0m   callbacks\u001b[38;5;241m.\u001b[39mon_train_batch_begin(step)\n\u001b[1;32m-> 1384\u001b[0m   tmp_logs \u001b[38;5;241m=\u001b[39m \u001b[38;5;28;43mself\u001b[39;49m\u001b[38;5;241;43m.\u001b[39;49m\u001b[43mtrain_function\u001b[49m\u001b[43m(\u001b[49m\u001b[43miterator\u001b[49m\u001b[43m)\u001b[49m\n\u001b[0;32m   1385\u001b[0m   \u001b[38;5;28;01mif\u001b[39;00m data_handler\u001b[38;5;241m.\u001b[39mshould_sync:\n\u001b[0;32m   1386\u001b[0m     context\u001b[38;5;241m.\u001b[39masync_wait()\n",
      "File \u001b[1;32m~\\.conda\\envs\\myenv\\lib\\site-packages\\tensorflow\\python\\util\\traceback_utils.py:150\u001b[0m, in \u001b[0;36mfilter_traceback.<locals>.error_handler\u001b[1;34m(*args, **kwargs)\u001b[0m\n\u001b[0;32m    148\u001b[0m filtered_tb \u001b[38;5;241m=\u001b[39m \u001b[38;5;28;01mNone\u001b[39;00m\n\u001b[0;32m    149\u001b[0m \u001b[38;5;28;01mtry\u001b[39;00m:\n\u001b[1;32m--> 150\u001b[0m   \u001b[38;5;28;01mreturn\u001b[39;00m fn(\u001b[38;5;241m*\u001b[39margs, \u001b[38;5;241m*\u001b[39m\u001b[38;5;241m*\u001b[39mkwargs)\n\u001b[0;32m    151\u001b[0m \u001b[38;5;28;01mexcept\u001b[39;00m \u001b[38;5;167;01mException\u001b[39;00m \u001b[38;5;28;01mas\u001b[39;00m e:\n\u001b[0;32m    152\u001b[0m   filtered_tb \u001b[38;5;241m=\u001b[39m _process_traceback_frames(e\u001b[38;5;241m.\u001b[39m__traceback__)\n",
      "File \u001b[1;32m~\\.conda\\envs\\myenv\\lib\\site-packages\\tensorflow\\python\\eager\\def_function.py:915\u001b[0m, in \u001b[0;36mFunction.__call__\u001b[1;34m(self, *args, **kwds)\u001b[0m\n\u001b[0;32m    912\u001b[0m compiler \u001b[38;5;241m=\u001b[39m \u001b[38;5;124m\"\u001b[39m\u001b[38;5;124mxla\u001b[39m\u001b[38;5;124m\"\u001b[39m \u001b[38;5;28;01mif\u001b[39;00m \u001b[38;5;28mself\u001b[39m\u001b[38;5;241m.\u001b[39m_jit_compile \u001b[38;5;28;01melse\u001b[39;00m \u001b[38;5;124m\"\u001b[39m\u001b[38;5;124mnonXla\u001b[39m\u001b[38;5;124m\"\u001b[39m\n\u001b[0;32m    914\u001b[0m \u001b[38;5;28;01mwith\u001b[39;00m OptionalXlaContext(\u001b[38;5;28mself\u001b[39m\u001b[38;5;241m.\u001b[39m_jit_compile):\n\u001b[1;32m--> 915\u001b[0m   result \u001b[38;5;241m=\u001b[39m \u001b[38;5;28mself\u001b[39m\u001b[38;5;241m.\u001b[39m_call(\u001b[38;5;241m*\u001b[39margs, \u001b[38;5;241m*\u001b[39m\u001b[38;5;241m*\u001b[39mkwds)\n\u001b[0;32m    917\u001b[0m new_tracing_count \u001b[38;5;241m=\u001b[39m \u001b[38;5;28mself\u001b[39m\u001b[38;5;241m.\u001b[39mexperimental_get_tracing_count()\n\u001b[0;32m    918\u001b[0m without_tracing \u001b[38;5;241m=\u001b[39m (tracing_count \u001b[38;5;241m==\u001b[39m new_tracing_count)\n",
      "File \u001b[1;32m~\\.conda\\envs\\myenv\\lib\\site-packages\\tensorflow\\python\\eager\\def_function.py:947\u001b[0m, in \u001b[0;36mFunction._call\u001b[1;34m(self, *args, **kwds)\u001b[0m\n\u001b[0;32m    944\u001b[0m   \u001b[38;5;28mself\u001b[39m\u001b[38;5;241m.\u001b[39m_lock\u001b[38;5;241m.\u001b[39mrelease()\n\u001b[0;32m    945\u001b[0m   \u001b[38;5;66;03m# In this case we have created variables on the first call, so we run the\u001b[39;00m\n\u001b[0;32m    946\u001b[0m   \u001b[38;5;66;03m# defunned version which is guaranteed to never create variables.\u001b[39;00m\n\u001b[1;32m--> 947\u001b[0m   \u001b[38;5;28;01mreturn\u001b[39;00m \u001b[38;5;28mself\u001b[39m\u001b[38;5;241m.\u001b[39m_stateless_fn(\u001b[38;5;241m*\u001b[39margs, \u001b[38;5;241m*\u001b[39m\u001b[38;5;241m*\u001b[39mkwds)  \u001b[38;5;66;03m# pylint: disable=not-callable\u001b[39;00m\n\u001b[0;32m    948\u001b[0m \u001b[38;5;28;01melif\u001b[39;00m \u001b[38;5;28mself\u001b[39m\u001b[38;5;241m.\u001b[39m_stateful_fn \u001b[38;5;129;01mis\u001b[39;00m \u001b[38;5;129;01mnot\u001b[39;00m \u001b[38;5;28;01mNone\u001b[39;00m:\n\u001b[0;32m    949\u001b[0m   \u001b[38;5;66;03m# Release the lock early so that multiple threads can perform the call\u001b[39;00m\n\u001b[0;32m    950\u001b[0m   \u001b[38;5;66;03m# in parallel.\u001b[39;00m\n\u001b[0;32m    951\u001b[0m   \u001b[38;5;28mself\u001b[39m\u001b[38;5;241m.\u001b[39m_lock\u001b[38;5;241m.\u001b[39mrelease()\n",
      "File \u001b[1;32m~\\.conda\\envs\\myenv\\lib\\site-packages\\tensorflow\\python\\eager\\function.py:2956\u001b[0m, in \u001b[0;36mFunction.__call__\u001b[1;34m(self, *args, **kwargs)\u001b[0m\n\u001b[0;32m   2953\u001b[0m \u001b[38;5;28;01mwith\u001b[39;00m \u001b[38;5;28mself\u001b[39m\u001b[38;5;241m.\u001b[39m_lock:\n\u001b[0;32m   2954\u001b[0m   (graph_function,\n\u001b[0;32m   2955\u001b[0m    filtered_flat_args) \u001b[38;5;241m=\u001b[39m \u001b[38;5;28mself\u001b[39m\u001b[38;5;241m.\u001b[39m_maybe_define_function(args, kwargs)\n\u001b[1;32m-> 2956\u001b[0m \u001b[38;5;28;01mreturn\u001b[39;00m \u001b[43mgraph_function\u001b[49m\u001b[38;5;241;43m.\u001b[39;49m\u001b[43m_call_flat\u001b[49m\u001b[43m(\u001b[49m\n\u001b[0;32m   2957\u001b[0m \u001b[43m    \u001b[49m\u001b[43mfiltered_flat_args\u001b[49m\u001b[43m,\u001b[49m\u001b[43m \u001b[49m\u001b[43mcaptured_inputs\u001b[49m\u001b[38;5;241;43m=\u001b[39;49m\u001b[43mgraph_function\u001b[49m\u001b[38;5;241;43m.\u001b[39;49m\u001b[43mcaptured_inputs\u001b[49m\u001b[43m)\u001b[49m\n",
      "File \u001b[1;32m~\\.conda\\envs\\myenv\\lib\\site-packages\\tensorflow\\python\\eager\\function.py:1853\u001b[0m, in \u001b[0;36mConcreteFunction._call_flat\u001b[1;34m(self, args, captured_inputs, cancellation_manager)\u001b[0m\n\u001b[0;32m   1849\u001b[0m possible_gradient_type \u001b[38;5;241m=\u001b[39m gradients_util\u001b[38;5;241m.\u001b[39mPossibleTapeGradientTypes(args)\n\u001b[0;32m   1850\u001b[0m \u001b[38;5;28;01mif\u001b[39;00m (possible_gradient_type \u001b[38;5;241m==\u001b[39m gradients_util\u001b[38;5;241m.\u001b[39mPOSSIBLE_GRADIENT_TYPES_NONE\n\u001b[0;32m   1851\u001b[0m     \u001b[38;5;129;01mand\u001b[39;00m executing_eagerly):\n\u001b[0;32m   1852\u001b[0m   \u001b[38;5;66;03m# No tape is watching; skip to running the function.\u001b[39;00m\n\u001b[1;32m-> 1853\u001b[0m   \u001b[38;5;28;01mreturn\u001b[39;00m \u001b[38;5;28mself\u001b[39m\u001b[38;5;241m.\u001b[39m_build_call_outputs(\u001b[38;5;28;43mself\u001b[39;49m\u001b[38;5;241;43m.\u001b[39;49m\u001b[43m_inference_function\u001b[49m\u001b[38;5;241;43m.\u001b[39;49m\u001b[43mcall\u001b[49m\u001b[43m(\u001b[49m\n\u001b[0;32m   1854\u001b[0m \u001b[43m      \u001b[49m\u001b[43mctx\u001b[49m\u001b[43m,\u001b[49m\u001b[43m \u001b[49m\u001b[43margs\u001b[49m\u001b[43m,\u001b[49m\u001b[43m \u001b[49m\u001b[43mcancellation_manager\u001b[49m\u001b[38;5;241;43m=\u001b[39;49m\u001b[43mcancellation_manager\u001b[49m\u001b[43m)\u001b[49m)\n\u001b[0;32m   1855\u001b[0m forward_backward \u001b[38;5;241m=\u001b[39m \u001b[38;5;28mself\u001b[39m\u001b[38;5;241m.\u001b[39m_select_forward_and_backward_functions(\n\u001b[0;32m   1856\u001b[0m     args,\n\u001b[0;32m   1857\u001b[0m     possible_gradient_type,\n\u001b[0;32m   1858\u001b[0m     executing_eagerly)\n\u001b[0;32m   1859\u001b[0m forward_function, args_with_tangents \u001b[38;5;241m=\u001b[39m forward_backward\u001b[38;5;241m.\u001b[39mforward()\n",
      "File \u001b[1;32m~\\.conda\\envs\\myenv\\lib\\site-packages\\tensorflow\\python\\eager\\function.py:499\u001b[0m, in \u001b[0;36m_EagerDefinedFunction.call\u001b[1;34m(self, ctx, args, cancellation_manager)\u001b[0m\n\u001b[0;32m    497\u001b[0m \u001b[38;5;28;01mwith\u001b[39;00m _InterpolateFunctionError(\u001b[38;5;28mself\u001b[39m):\n\u001b[0;32m    498\u001b[0m   \u001b[38;5;28;01mif\u001b[39;00m cancellation_manager \u001b[38;5;129;01mis\u001b[39;00m \u001b[38;5;28;01mNone\u001b[39;00m:\n\u001b[1;32m--> 499\u001b[0m     outputs \u001b[38;5;241m=\u001b[39m \u001b[43mexecute\u001b[49m\u001b[38;5;241;43m.\u001b[39;49m\u001b[43mexecute\u001b[49m\u001b[43m(\u001b[49m\n\u001b[0;32m    500\u001b[0m \u001b[43m        \u001b[49m\u001b[38;5;28;43mstr\u001b[39;49m\u001b[43m(\u001b[49m\u001b[38;5;28;43mself\u001b[39;49m\u001b[38;5;241;43m.\u001b[39;49m\u001b[43msignature\u001b[49m\u001b[38;5;241;43m.\u001b[39;49m\u001b[43mname\u001b[49m\u001b[43m)\u001b[49m\u001b[43m,\u001b[49m\n\u001b[0;32m    501\u001b[0m \u001b[43m        \u001b[49m\u001b[43mnum_outputs\u001b[49m\u001b[38;5;241;43m=\u001b[39;49m\u001b[38;5;28;43mself\u001b[39;49m\u001b[38;5;241;43m.\u001b[39;49m\u001b[43m_num_outputs\u001b[49m\u001b[43m,\u001b[49m\n\u001b[0;32m    502\u001b[0m \u001b[43m        \u001b[49m\u001b[43minputs\u001b[49m\u001b[38;5;241;43m=\u001b[39;49m\u001b[43margs\u001b[49m\u001b[43m,\u001b[49m\n\u001b[0;32m    503\u001b[0m \u001b[43m        \u001b[49m\u001b[43mattrs\u001b[49m\u001b[38;5;241;43m=\u001b[39;49m\u001b[43mattrs\u001b[49m\u001b[43m,\u001b[49m\n\u001b[0;32m    504\u001b[0m \u001b[43m        \u001b[49m\u001b[43mctx\u001b[49m\u001b[38;5;241;43m=\u001b[39;49m\u001b[43mctx\u001b[49m\u001b[43m)\u001b[49m\n\u001b[0;32m    505\u001b[0m   \u001b[38;5;28;01melse\u001b[39;00m:\n\u001b[0;32m    506\u001b[0m     outputs \u001b[38;5;241m=\u001b[39m execute\u001b[38;5;241m.\u001b[39mexecute_with_cancellation(\n\u001b[0;32m    507\u001b[0m         \u001b[38;5;28mstr\u001b[39m(\u001b[38;5;28mself\u001b[39m\u001b[38;5;241m.\u001b[39msignature\u001b[38;5;241m.\u001b[39mname),\n\u001b[0;32m    508\u001b[0m         num_outputs\u001b[38;5;241m=\u001b[39m\u001b[38;5;28mself\u001b[39m\u001b[38;5;241m.\u001b[39m_num_outputs,\n\u001b[1;32m   (...)\u001b[0m\n\u001b[0;32m    511\u001b[0m         ctx\u001b[38;5;241m=\u001b[39mctx,\n\u001b[0;32m    512\u001b[0m         cancellation_manager\u001b[38;5;241m=\u001b[39mcancellation_manager)\n",
      "File \u001b[1;32m~\\.conda\\envs\\myenv\\lib\\site-packages\\tensorflow\\python\\eager\\execute.py:54\u001b[0m, in \u001b[0;36mquick_execute\u001b[1;34m(op_name, num_outputs, inputs, attrs, ctx, name)\u001b[0m\n\u001b[0;32m     52\u001b[0m \u001b[38;5;28;01mtry\u001b[39;00m:\n\u001b[0;32m     53\u001b[0m   ctx\u001b[38;5;241m.\u001b[39mensure_initialized()\n\u001b[1;32m---> 54\u001b[0m   tensors \u001b[38;5;241m=\u001b[39m \u001b[43mpywrap_tfe\u001b[49m\u001b[38;5;241;43m.\u001b[39;49m\u001b[43mTFE_Py_Execute\u001b[49m\u001b[43m(\u001b[49m\u001b[43mctx\u001b[49m\u001b[38;5;241;43m.\u001b[39;49m\u001b[43m_handle\u001b[49m\u001b[43m,\u001b[49m\u001b[43m \u001b[49m\u001b[43mdevice_name\u001b[49m\u001b[43m,\u001b[49m\u001b[43m \u001b[49m\u001b[43mop_name\u001b[49m\u001b[43m,\u001b[49m\n\u001b[0;32m     55\u001b[0m \u001b[43m                                      \u001b[49m\u001b[43minputs\u001b[49m\u001b[43m,\u001b[49m\u001b[43m \u001b[49m\u001b[43mattrs\u001b[49m\u001b[43m,\u001b[49m\u001b[43m \u001b[49m\u001b[43mnum_outputs\u001b[49m\u001b[43m)\u001b[49m\n\u001b[0;32m     56\u001b[0m \u001b[38;5;28;01mexcept\u001b[39;00m core\u001b[38;5;241m.\u001b[39m_NotOkStatusException \u001b[38;5;28;01mas\u001b[39;00m e:\n\u001b[0;32m     57\u001b[0m   \u001b[38;5;28;01mif\u001b[39;00m name \u001b[38;5;129;01mis\u001b[39;00m \u001b[38;5;129;01mnot\u001b[39;00m \u001b[38;5;28;01mNone\u001b[39;00m:\n",
      "\u001b[1;31mKeyboardInterrupt\u001b[0m: "
     ]
    }
   ],
   "source": [
    "epochs = 100\n",
    "history=model.fit(\n",
    "    x=train_x,y=train_y,batch_size=5,\n",
    "#     validation_data=validation_dataset,\n",
    "    epochs=epochs,\n",
    "    shuffle=True,\n",
    "    verbose=1,\n",
    "#     callbacks=[checkpoint_cb, early_stopping_cb],\n",
    ")"
   ]
  },
  {
   "cell_type": "code",
   "execution_count": 36,
   "metadata": {},
   "outputs": [],
   "source": [
    "ypred=model.predict(test_x,batch_size=15)"
   ]
  },
  {
   "cell_type": "code",
   "execution_count": 37,
   "metadata": {},
   "outputs": [
    {
     "data": {
      "text/plain": [
       "210.78458"
      ]
     },
     "execution_count": 37,
     "metadata": {},
     "output_type": "execute_result"
    }
   ],
   "source": [
    "from tensorflow.keras import metrics\n",
    "np.mean(metrics.mse(test_y,ypred))"
   ]
  },
  {
   "cell_type": "code",
   "execution_count": 38,
   "metadata": {},
   "outputs": [
    {
     "data": {
      "text/plain": [
       "<matplotlib.image.AxesImage at 0x27d963f41c0>"
      ]
     },
     "execution_count": 38,
     "metadata": {},
     "output_type": "execute_result"
    },
    {
     "data": {
      "image/png": "[encoded data removed]",
      "text/plain": [
       "<Figure size 432x288 with 1 Axes>"
      ]
     },
     "metadata": {
      "needs_background": "light"
     },
     "output_type": "display_data"
    }
   ],
   "source": [
    "plt.imshow(ypred[21].reshape((150,150)))"
   ]
  },
  {
   "cell_type": "code",
   "execution_count": 40,
   "metadata": {},
   "outputs": [
    {
     "data": {
      "text/plain": [
       "<matplotlib.image.AxesImage at 0x27d96503a90>"
      ]
     },
     "execution_count": 40,
     "metadata": {},
     "output_type": "execute_result"
    },
    {
     "data": {
      "image/png": "[encoded data removed]",
      "text/plain": [
       "<Figure size 432x288 with 1 Axes>"
      ]
     },
     "metadata": {
      "needs_background": "light"
     },
     "output_type": "display_data"
    }
   ],
   "source": [
    "plt.imshow(test_y[21].reshape((150,150)))"
   ]
  },
  {
   "cell_type": "code",
   "execution_count": null,
   "metadata": {},
   "outputs": [],
   "source": []
  },
  {
   "cell_type": "code",
   "execution_count": null,
   "metadata": {},
   "outputs": [],
   "source": []
  },
  {
   "cell_type": "code",
   "execution_count": 41,
   "metadata": {},
   "outputs": [
    {
     "name": "stdout",
     "output_type": "stream",
     "text": [
      "Model: \"sequential_5\"\n",
      "_________________________________________________________________\n",
      " Layer (type)                Output Shape              Param #   \n",
      "=================================================================\n",
      " conv_lstm2d (ConvLSTM2D)    (None, 150, 150, 20, 64)  150016    \n",
      "                                                                 \n",
      " batch_normalization_20 (Bat  (None, 150, 150, 20, 64)  256      \n",
      " chNormalization)                                                \n",
      "                                                                 \n",
      " conv_lstm2d_1 (ConvLSTM2D)  (None, 150, 150, 20, 32)  110720    \n",
      "                                                                 \n",
      " batch_normalization_21 (Bat  (None, 150, 150, 20, 32)  128      \n",
      " chNormalization)                                                \n",
      "                                                                 \n",
      " conv_lstm2d_2 (ConvLSTM2D)  (None, 150, 20, 16)       27712     \n",
      "                                                                 \n",
      " batch_normalization_22 (Bat  (None, 150, 20, 16)      64        \n",
      " chNormalization)                                                \n",
      "                                                                 \n",
      " conv2d (Conv2D)             (None, 150, 20, 16)       2320      \n",
      "                                                                 \n",
      " flatten_5 (Flatten)         (None, 48000)             0         \n",
      "                                                                 \n",
      " dense_10 (Dense)            (None, 1024)              49153024  \n",
      "                                                                 \n",
      " dense_11 (Dense)            (None, 22500)             23062500  \n",
      "                                                                 \n",
      "=================================================================\n",
      "Total params: 72,506,740\n",
      "Trainable params: 72,506,516\n",
      "Non-trainable params: 224\n",
      "_________________________________________________________________\n"
     ]
    }
   ],
   "source": [
    "model= tf.keras.models.Sequential()\n",
    "model.add(layers.ConvLSTM2D(64,3,input_shape=(150,150,20,1),padding=\"same\",activation=\"relu\",return_sequences=True))\n",
    "model.add(layers.BatchNormalization()) \n",
    "\n",
    "model.add(layers.ConvLSTM2D(32,3,padding=\"same\",activation=\"relu\",return_sequences=True))\n",
    "model.add(layers.BatchNormalization()) \n",
    "\n",
    "model.add(layers.ConvLSTM2D(16,3,padding=\"same\",activation=\"relu\",return_sequences=False))\n",
    "model.add(layers.BatchNormalization())  \n",
    "\n",
    "model.add(layers.Conv2D(16,3,padding='same',activation='relu'))\n",
    "\n",
    "model.add(layers.Flatten())\n",
    "model.add(layers.Dense(units=1024, activation='relu'))\n",
    "model.add(layers.Dense(units=150*150))\n",
    "model.summary()"
   ]
  },
  {
   "cell_type": "code",
   "execution_count": 43,
   "metadata": {},
   "outputs": [],
   "source": [
    "initial_learning_rate = 0.0001\n",
    "lr_schedule = keras.optimizers.schedules.ExponentialDecay(\n",
    "    initial_learning_rate, decay_steps=100000, decay_rate=0.96, staircase=True\n",
    ")\n",
    "model.compile(\n",
    "    loss=\"mse\",\n",
    "    optimizer=keras.optimizers.Adam(learning_rate=lr_schedule),\n",
    "    metrics=[\"mse\"],\n",
    ")"
   ]
  },
  {
   "cell_type": "code",
   "execution_count": 44,
   "metadata": {},
   "outputs": [
    {
     "name": "stdout",
     "output_type": "stream",
     "text": [
      "Epoch 1/100\n",
      " 18/116 [===>..........................] - ETA: 3:50:32 - loss: nan - mse: nan"
     ]
    },
    {
     "ename": "KeyboardInterrupt",
     "evalue": "",
     "output_type": "error",
     "traceback": [
      "\u001b[1;31m---------------------------------------------------------------------------\u001b[0m",
      "\u001b[1;31mKeyboardInterrupt\u001b[0m                         Traceback (most recent call last)",
      "Input \u001b[1;32mIn [44]\u001b[0m, in \u001b[0;36m<cell line: 2>\u001b[1;34m()\u001b[0m\n\u001b[0;32m      1\u001b[0m epochs \u001b[38;5;241m=\u001b[39m \u001b[38;5;241m100\u001b[39m\n\u001b[1;32m----> 2\u001b[0m history\u001b[38;5;241m=\u001b[39m\u001b[43mmodel\u001b[49m\u001b[38;5;241;43m.\u001b[39;49m\u001b[43mfit\u001b[49m\u001b[43m(\u001b[49m\n\u001b[0;32m      3\u001b[0m \u001b[43m    \u001b[49m\u001b[43mx\u001b[49m\u001b[38;5;241;43m=\u001b[39;49m\u001b[43mtrain_x\u001b[49m\u001b[43m,\u001b[49m\u001b[43my\u001b[49m\u001b[38;5;241;43m=\u001b[39;49m\u001b[43mtrain_y\u001b[49m\u001b[43m,\u001b[49m\u001b[43mbatch_size\u001b[49m\u001b[38;5;241;43m=\u001b[39;49m\u001b[38;5;241;43m5\u001b[39;49m\u001b[43m,\u001b[49m\n\u001b[0;32m      4\u001b[0m \u001b[38;5;66;43;03m#     validation_data=validation_dataset,\u001b[39;49;00m\n\u001b[0;32m      5\u001b[0m \u001b[43m    \u001b[49m\u001b[43mepochs\u001b[49m\u001b[38;5;241;43m=\u001b[39;49m\u001b[43mepochs\u001b[49m\u001b[43m,\u001b[49m\n\u001b[0;32m      6\u001b[0m \u001b[43m    \u001b[49m\u001b[43mshuffle\u001b[49m\u001b[38;5;241;43m=\u001b[39;49m\u001b[38;5;28;43;01mTrue\u001b[39;49;00m\u001b[43m,\u001b[49m\n\u001b[0;32m      7\u001b[0m \u001b[43m    \u001b[49m\u001b[43mverbose\u001b[49m\u001b[38;5;241;43m=\u001b[39;49m\u001b[38;5;241;43m1\u001b[39;49m\u001b[43m,\u001b[49m\n\u001b[0;32m      8\u001b[0m \u001b[38;5;66;43;03m#     callbacks=[checkpoint_cb, early_stopping_cb],\u001b[39;49;00m\n\u001b[0;32m      9\u001b[0m \u001b[43m)\u001b[49m\n",
      "File \u001b[1;32m~\\.conda\\envs\\myenv\\lib\\site-packages\\keras\\utils\\traceback_utils.py:64\u001b[0m, in \u001b[0;36mfilter_traceback.<locals>.error_handler\u001b[1;34m(*args, **kwargs)\u001b[0m\n\u001b[0;32m     62\u001b[0m filtered_tb \u001b[38;5;241m=\u001b[39m \u001b[38;5;28;01mNone\u001b[39;00m\n\u001b[0;32m     63\u001b[0m \u001b[38;5;28;01mtry\u001b[39;00m:\n\u001b[1;32m---> 64\u001b[0m   \u001b[38;5;28;01mreturn\u001b[39;00m fn(\u001b[38;5;241m*\u001b[39margs, \u001b[38;5;241m*\u001b[39m\u001b[38;5;241m*\u001b[39mkwargs)\n\u001b[0;32m     65\u001b[0m \u001b[38;5;28;01mexcept\u001b[39;00m \u001b[38;5;167;01mException\u001b[39;00m \u001b[38;5;28;01mas\u001b[39;00m e:  \u001b[38;5;66;03m# pylint: disable=broad-except\u001b[39;00m\n\u001b[0;32m     66\u001b[0m   filtered_tb \u001b[38;5;241m=\u001b[39m _process_traceback_frames(e\u001b[38;5;241m.\u001b[39m__traceback__)\n",
      "File \u001b[1;32m~\\.conda\\envs\\myenv\\lib\\site-packages\\keras\\engine\\training.py:1384\u001b[0m, in \u001b[0;36mModel.fit\u001b[1;34m(self, x, y, batch_size, epochs, verbose, callbacks, validation_split, validation_data, shuffle, class_weight, sample_weight, initial_epoch, steps_per_epoch, validation_steps, validation_batch_size, validation_freq, max_queue_size, workers, use_multiprocessing)\u001b[0m\n\u001b[0;32m   1377\u001b[0m \u001b[38;5;28;01mwith\u001b[39;00m tf\u001b[38;5;241m.\u001b[39mprofiler\u001b[38;5;241m.\u001b[39mexperimental\u001b[38;5;241m.\u001b[39mTrace(\n\u001b[0;32m   1378\u001b[0m     \u001b[38;5;124m'\u001b[39m\u001b[38;5;124mtrain\u001b[39m\u001b[38;5;124m'\u001b[39m,\n\u001b[0;32m   1379\u001b[0m     epoch_num\u001b[38;5;241m=\u001b[39mepoch,\n\u001b[0;32m   1380\u001b[0m     step_num\u001b[38;5;241m=\u001b[39mstep,\n\u001b[0;32m   1381\u001b[0m     batch_size\u001b[38;5;241m=\u001b[39mbatch_size,\n\u001b[0;32m   1382\u001b[0m     _r\u001b[38;5;241m=\u001b[39m\u001b[38;5;241m1\u001b[39m):\n\u001b[0;32m   1383\u001b[0m   callbacks\u001b[38;5;241m.\u001b[39mon_train_batch_begin(step)\n\u001b[1;32m-> 1384\u001b[0m   tmp_logs \u001b[38;5;241m=\u001b[39m \u001b[38;5;28;43mself\u001b[39;49m\u001b[38;5;241;43m.\u001b[39;49m\u001b[43mtrain_function\u001b[49m\u001b[43m(\u001b[49m\u001b[43miterator\u001b[49m\u001b[43m)\u001b[49m\n\u001b[0;32m   1385\u001b[0m   \u001b[38;5;28;01mif\u001b[39;00m data_handler\u001b[38;5;241m.\u001b[39mshould_sync:\n\u001b[0;32m   1386\u001b[0m     context\u001b[38;5;241m.\u001b[39masync_wait()\n",
      "File \u001b[1;32m~\\.conda\\envs\\myenv\\lib\\site-packages\\tensorflow\\python\\util\\traceback_utils.py:150\u001b[0m, in \u001b[0;36mfilter_traceback.<locals>.error_handler\u001b[1;34m(*args, **kwargs)\u001b[0m\n\u001b[0;32m    148\u001b[0m filtered_tb \u001b[38;5;241m=\u001b[39m \u001b[38;5;28;01mNone\u001b[39;00m\n\u001b[0;32m    149\u001b[0m \u001b[38;5;28;01mtry\u001b[39;00m:\n\u001b[1;32m--> 150\u001b[0m   \u001b[38;5;28;01mreturn\u001b[39;00m fn(\u001b[38;5;241m*\u001b[39margs, \u001b[38;5;241m*\u001b[39m\u001b[38;5;241m*\u001b[39mkwargs)\n\u001b[0;32m    151\u001b[0m \u001b[38;5;28;01mexcept\u001b[39;00m \u001b[38;5;167;01mException\u001b[39;00m \u001b[38;5;28;01mas\u001b[39;00m e:\n\u001b[0;32m    152\u001b[0m   filtered_tb \u001b[38;5;241m=\u001b[39m _process_traceback_frames(e\u001b[38;5;241m.\u001b[39m__traceback__)\n",
      "File \u001b[1;32m~\\.conda\\envs\\myenv\\lib\\site-packages\\tensorflow\\python\\eager\\def_function.py:915\u001b[0m, in \u001b[0;36mFunction.__call__\u001b[1;34m(self, *args, **kwds)\u001b[0m\n\u001b[0;32m    912\u001b[0m compiler \u001b[38;5;241m=\u001b[39m \u001b[38;5;124m\"\u001b[39m\u001b[38;5;124mxla\u001b[39m\u001b[38;5;124m\"\u001b[39m \u001b[38;5;28;01mif\u001b[39;00m \u001b[38;5;28mself\u001b[39m\u001b[38;5;241m.\u001b[39m_jit_compile \u001b[38;5;28;01melse\u001b[39;00m \u001b[38;5;124m\"\u001b[39m\u001b[38;5;124mnonXla\u001b[39m\u001b[38;5;124m\"\u001b[39m\n\u001b[0;32m    914\u001b[0m \u001b[38;5;28;01mwith\u001b[39;00m OptionalXlaContext(\u001b[38;5;28mself\u001b[39m\u001b[38;5;241m.\u001b[39m_jit_compile):\n\u001b[1;32m--> 915\u001b[0m   result \u001b[38;5;241m=\u001b[39m \u001b[38;5;28mself\u001b[39m\u001b[38;5;241m.\u001b[39m_call(\u001b[38;5;241m*\u001b[39margs, \u001b[38;5;241m*\u001b[39m\u001b[38;5;241m*\u001b[39mkwds)\n\u001b[0;32m    917\u001b[0m new_tracing_count \u001b[38;5;241m=\u001b[39m \u001b[38;5;28mself\u001b[39m\u001b[38;5;241m.\u001b[39mexperimental_get_tracing_count()\n\u001b[0;32m    918\u001b[0m without_tracing \u001b[38;5;241m=\u001b[39m (tracing_count \u001b[38;5;241m==\u001b[39m new_tracing_count)\n",
      "File \u001b[1;32m~\\.conda\\envs\\myenv\\lib\\site-packages\\tensorflow\\python\\eager\\def_function.py:947\u001b[0m, in \u001b[0;36mFunction._call\u001b[1;34m(self, *args, **kwds)\u001b[0m\n\u001b[0;32m    944\u001b[0m   \u001b[38;5;28mself\u001b[39m\u001b[38;5;241m.\u001b[39m_lock\u001b[38;5;241m.\u001b[39mrelease()\n\u001b[0;32m    945\u001b[0m   \u001b[38;5;66;03m# In this case we have created variables on the first call, so we run the\u001b[39;00m\n\u001b[0;32m    946\u001b[0m   \u001b[38;5;66;03m# defunned version which is guaranteed to never create variables.\u001b[39;00m\n\u001b[1;32m--> 947\u001b[0m   \u001b[38;5;28;01mreturn\u001b[39;00m \u001b[38;5;28mself\u001b[39m\u001b[38;5;241m.\u001b[39m_stateless_fn(\u001b[38;5;241m*\u001b[39margs, \u001b[38;5;241m*\u001b[39m\u001b[38;5;241m*\u001b[39mkwds)  \u001b[38;5;66;03m# pylint: disable=not-callable\u001b[39;00m\n\u001b[0;32m    948\u001b[0m \u001b[38;5;28;01melif\u001b[39;00m \u001b[38;5;28mself\u001b[39m\u001b[38;5;241m.\u001b[39m_stateful_fn \u001b[38;5;129;01mis\u001b[39;00m \u001b[38;5;129;01mnot\u001b[39;00m \u001b[38;5;28;01mNone\u001b[39;00m:\n\u001b[0;32m    949\u001b[0m   \u001b[38;5;66;03m# Release the lock early so that multiple threads can perform the call\u001b[39;00m\n\u001b[0;32m    950\u001b[0m   \u001b[38;5;66;03m# in parallel.\u001b[39;00m\n\u001b[0;32m    951\u001b[0m   \u001b[38;5;28mself\u001b[39m\u001b[38;5;241m.\u001b[39m_lock\u001b[38;5;241m.\u001b[39mrelease()\n",
      "File \u001b[1;32m~\\.conda\\envs\\myenv\\lib\\site-packages\\tensorflow\\python\\eager\\function.py:2956\u001b[0m, in \u001b[0;36mFunction.__call__\u001b[1;34m(self, *args, **kwargs)\u001b[0m\n\u001b[0;32m   2953\u001b[0m \u001b[38;5;28;01mwith\u001b[39;00m \u001b[38;5;28mself\u001b[39m\u001b[38;5;241m.\u001b[39m_lock:\n\u001b[0;32m   2954\u001b[0m   (graph_function,\n\u001b[0;32m   2955\u001b[0m    filtered_flat_args) \u001b[38;5;241m=\u001b[39m \u001b[38;5;28mself\u001b[39m\u001b[38;5;241m.\u001b[39m_maybe_define_function(args, kwargs)\n\u001b[1;32m-> 2956\u001b[0m \u001b[38;5;28;01mreturn\u001b[39;00m \u001b[43mgraph_function\u001b[49m\u001b[38;5;241;43m.\u001b[39;49m\u001b[43m_call_flat\u001b[49m\u001b[43m(\u001b[49m\n\u001b[0;32m   2957\u001b[0m \u001b[43m    \u001b[49m\u001b[43mfiltered_flat_args\u001b[49m\u001b[43m,\u001b[49m\u001b[43m \u001b[49m\u001b[43mcaptured_inputs\u001b[49m\u001b[38;5;241;43m=\u001b[39;49m\u001b[43mgraph_function\u001b[49m\u001b[38;5;241;43m.\u001b[39;49m\u001b[43mcaptured_inputs\u001b[49m\u001b[43m)\u001b[49m\n",
      "File \u001b[1;32m~\\.conda\\envs\\myenv\\lib\\site-packages\\tensorflow\\python\\eager\\function.py:1853\u001b[0m, in \u001b[0;36mConcreteFunction._call_flat\u001b[1;34m(self, args, captured_inputs, cancellation_manager)\u001b[0m\n\u001b[0;32m   1849\u001b[0m possible_gradient_type \u001b[38;5;241m=\u001b[39m gradients_util\u001b[38;5;241m.\u001b[39mPossibleTapeGradientTypes(args)\n\u001b[0;32m   1850\u001b[0m \u001b[38;5;28;01mif\u001b[39;00m (possible_gradient_type \u001b[38;5;241m==\u001b[39m gradients_util\u001b[38;5;241m.\u001b[39mPOSSIBLE_GRADIENT_TYPES_NONE\n\u001b[0;32m   1851\u001b[0m     \u001b[38;5;129;01mand\u001b[39;00m executing_eagerly):\n\u001b[0;32m   1852\u001b[0m   \u001b[38;5;66;03m# No tape is watching; skip to running the function.\u001b[39;00m\n\u001b[1;32m-> 1853\u001b[0m   \u001b[38;5;28;01mreturn\u001b[39;00m \u001b[38;5;28mself\u001b[39m\u001b[38;5;241m.\u001b[39m_build_call_outputs(\u001b[38;5;28;43mself\u001b[39;49m\u001b[38;5;241;43m.\u001b[39;49m\u001b[43m_inference_function\u001b[49m\u001b[38;5;241;43m.\u001b[39;49m\u001b[43mcall\u001b[49m\u001b[43m(\u001b[49m\n\u001b[0;32m   1854\u001b[0m \u001b[43m      \u001b[49m\u001b[43mctx\u001b[49m\u001b[43m,\u001b[49m\u001b[43m \u001b[49m\u001b[43margs\u001b[49m\u001b[43m,\u001b[49m\u001b[43m \u001b[49m\u001b[43mcancellation_manager\u001b[49m\u001b[38;5;241;43m=\u001b[39;49m\u001b[43mcancellation_manager\u001b[49m\u001b[43m)\u001b[49m)\n\u001b[0;32m   1855\u001b[0m forward_backward \u001b[38;5;241m=\u001b[39m \u001b[38;5;28mself\u001b[39m\u001b[38;5;241m.\u001b[39m_select_forward_and_backward_functions(\n\u001b[0;32m   1856\u001b[0m     args,\n\u001b[0;32m   1857\u001b[0m     possible_gradient_type,\n\u001b[0;32m   1858\u001b[0m     executing_eagerly)\n\u001b[0;32m   1859\u001b[0m forward_function, args_with_tangents \u001b[38;5;241m=\u001b[39m forward_backward\u001b[38;5;241m.\u001b[39mforward()\n",
      "File \u001b[1;32m~\\.conda\\envs\\myenv\\lib\\site-packages\\tensorflow\\python\\eager\\function.py:499\u001b[0m, in \u001b[0;36m_EagerDefinedFunction.call\u001b[1;34m(self, ctx, args, cancellation_manager)\u001b[0m\n\u001b[0;32m    497\u001b[0m \u001b[38;5;28;01mwith\u001b[39;00m _InterpolateFunctionError(\u001b[38;5;28mself\u001b[39m):\n\u001b[0;32m    498\u001b[0m   \u001b[38;5;28;01mif\u001b[39;00m cancellation_manager \u001b[38;5;129;01mis\u001b[39;00m \u001b[38;5;28;01mNone\u001b[39;00m:\n\u001b[1;32m--> 499\u001b[0m     outputs \u001b[38;5;241m=\u001b[39m \u001b[43mexecute\u001b[49m\u001b[38;5;241;43m.\u001b[39;49m\u001b[43mexecute\u001b[49m\u001b[43m(\u001b[49m\n\u001b[0;32m    500\u001b[0m \u001b[43m        \u001b[49m\u001b[38;5;28;43mstr\u001b[39;49m\u001b[43m(\u001b[49m\u001b[38;5;28;43mself\u001b[39;49m\u001b[38;5;241;43m.\u001b[39;49m\u001b[43msignature\u001b[49m\u001b[38;5;241;43m.\u001b[39;49m\u001b[43mname\u001b[49m\u001b[43m)\u001b[49m\u001b[43m,\u001b[49m\n\u001b[0;32m    501\u001b[0m \u001b[43m        \u001b[49m\u001b[43mnum_outputs\u001b[49m\u001b[38;5;241;43m=\u001b[39;49m\u001b[38;5;28;43mself\u001b[39;49m\u001b[38;5;241;43m.\u001b[39;49m\u001b[43m_num_outputs\u001b[49m\u001b[43m,\u001b[49m\n\u001b[0;32m    502\u001b[0m \u001b[43m        \u001b[49m\u001b[43minputs\u001b[49m\u001b[38;5;241;43m=\u001b[39;49m\u001b[43margs\u001b[49m\u001b[43m,\u001b[49m\n\u001b[0;32m    503\u001b[0m \u001b[43m        \u001b[49m\u001b[43mattrs\u001b[49m\u001b[38;5;241;43m=\u001b[39;49m\u001b[43mattrs\u001b[49m\u001b[43m,\u001b[49m\n\u001b[0;32m    504\u001b[0m \u001b[43m        \u001b[49m\u001b[43mctx\u001b[49m\u001b[38;5;241;43m=\u001b[39;49m\u001b[43mctx\u001b[49m\u001b[43m)\u001b[49m\n\u001b[0;32m    505\u001b[0m   \u001b[38;5;28;01melse\u001b[39;00m:\n\u001b[0;32m    506\u001b[0m     outputs \u001b[38;5;241m=\u001b[39m execute\u001b[38;5;241m.\u001b[39mexecute_with_cancellation(\n\u001b[0;32m    507\u001b[0m         \u001b[38;5;28mstr\u001b[39m(\u001b[38;5;28mself\u001b[39m\u001b[38;5;241m.\u001b[39msignature\u001b[38;5;241m.\u001b[39mname),\n\u001b[0;32m    508\u001b[0m         num_outputs\u001b[38;5;241m=\u001b[39m\u001b[38;5;28mself\u001b[39m\u001b[38;5;241m.\u001b[39m_num_outputs,\n\u001b[1;32m   (...)\u001b[0m\n\u001b[0;32m    511\u001b[0m         ctx\u001b[38;5;241m=\u001b[39mctx,\n\u001b[0;32m    512\u001b[0m         cancellation_manager\u001b[38;5;241m=\u001b[39mcancellation_manager)\n",
      "File \u001b[1;32m~\\.conda\\envs\\myenv\\lib\\site-packages\\tensorflow\\python\\eager\\execute.py:54\u001b[0m, in \u001b[0;36mquick_execute\u001b[1;34m(op_name, num_outputs, inputs, attrs, ctx, name)\u001b[0m\n\u001b[0;32m     52\u001b[0m \u001b[38;5;28;01mtry\u001b[39;00m:\n\u001b[0;32m     53\u001b[0m   ctx\u001b[38;5;241m.\u001b[39mensure_initialized()\n\u001b[1;32m---> 54\u001b[0m   tensors \u001b[38;5;241m=\u001b[39m \u001b[43mpywrap_tfe\u001b[49m\u001b[38;5;241;43m.\u001b[39;49m\u001b[43mTFE_Py_Execute\u001b[49m\u001b[43m(\u001b[49m\u001b[43mctx\u001b[49m\u001b[38;5;241;43m.\u001b[39;49m\u001b[43m_handle\u001b[49m\u001b[43m,\u001b[49m\u001b[43m \u001b[49m\u001b[43mdevice_name\u001b[49m\u001b[43m,\u001b[49m\u001b[43m \u001b[49m\u001b[43mop_name\u001b[49m\u001b[43m,\u001b[49m\n\u001b[0;32m     55\u001b[0m \u001b[43m                                      \u001b[49m\u001b[43minputs\u001b[49m\u001b[43m,\u001b[49m\u001b[43m \u001b[49m\u001b[43mattrs\u001b[49m\u001b[43m,\u001b[49m\u001b[43m \u001b[49m\u001b[43mnum_outputs\u001b[49m\u001b[43m)\u001b[49m\n\u001b[0;32m     56\u001b[0m \u001b[38;5;28;01mexcept\u001b[39;00m core\u001b[38;5;241m.\u001b[39m_NotOkStatusException \u001b[38;5;28;01mas\u001b[39;00m e:\n\u001b[0;32m     57\u001b[0m   \u001b[38;5;28;01mif\u001b[39;00m name \u001b[38;5;129;01mis\u001b[39;00m \u001b[38;5;129;01mnot\u001b[39;00m \u001b[38;5;28;01mNone\u001b[39;00m:\n",
      "\u001b[1;31mKeyboardInterrupt\u001b[0m: "
     ]
    }
   ],
   "source": [
    "epochs = 100\n",
    "history=model.fit(\n",
    "    x=train_x,y=train_y,batch_size=5,\n",
    "#     validation_data=validation_dataset,\n",
    "    epochs=epochs,\n",
    "    shuffle=True,\n",
    "    verbose=1,\n",
    "#     callbacks=[checkpoint_cb, early_stopping_cb],\n",
    ")"
   ]
  },
  {
   "cell_type": "code",
   "execution_count": null,
   "metadata": {},
   "outputs": [],
   "source": [
    "ypred=model.predict(test_x,batch_size=15)"
   ]
  },
  {
   "cell_type": "code",
   "execution_count": null,
   "metadata": {},
   "outputs": [],
   "source": [
    "from tensorflow.keras import metrics\n",
    "np.mean(metrics.mse(test_y,ypred))"
   ]
  },
  {
   "cell_type": "code",
   "execution_count": null,
   "metadata": {},
   "outputs": [],
   "source": [
    "plt.imshow(test_y[21].reshape((150,150)))"
   ]
  },
  {
   "cell_type": "code",
   "execution_count": null,
   "metadata": {},
   "outputs": [],
   "source": [
    "plt.imshow(ypred[21].reshape((150,150)))"
   ]
  },
  {
   "cell_type": "code",
   "execution_count": null,
   "metadata": {},
   "outputs": [],
   "source": []
  },
  {
   "cell_type": "code",
   "execution_count": null,
   "metadata": {},
   "outputs": [],
   "source": []
  },
  {
   "cell_type": "code",
   "execution_count": null,
   "metadata": {},
   "outputs": [],
   "source": []
  },
  {
   "cell_type": "code",
   "execution_count": null,
   "metadata": {},
   "outputs": [],
   "source": []
  },
  {
   "cell_type": "code",
   "execution_count": null,
   "metadata": {},
   "outputs": [],
   "source": []
  },
  {
   "cell_type": "code",
   "execution_count": null,
   "metadata": {},
   "outputs": [],
   "source": []
  },
  {
   "cell_type": "code",
   "execution_count": null,
   "metadata": {},
   "outputs": [],
   "source": []
  },
  {
   "cell_type": "code",
   "execution_count": null,
   "metadata": {},
   "outputs": [],
   "source": []
  },
  {
   "cell_type": "code",
   "execution_count": null,
   "metadata": {},
   "outputs": [],
   "source": [
    "# Construct the input layer with no definite frame size.\n",
    "inp = layers.Input(shape=(train_x[0].shape))\n",
    "\n",
    "# We will construct 3 `ConvLSTM2D` layers with batch normalization,\n",
    "# followed by a `Conv3D` layer for the spatiotemporal outputs.\n",
    "x = layers.ConvLSTM2D(\n",
    "    filters=64,\n",
    "    kernel_size=(5, 5),\n",
    "    padding=\"same\",\n",
    "    return_sequences=True,\n",
    "    activation=\"relu\",\n",
    ")(inp)\n",
    "x = layers.BatchNormalization()(x)\n",
    "x = layers.ConvLSTM2D(\n",
    "    filters=64,\n",
    "    kernel_size=(3, 3),\n",
    "    padding=\"same\",\n",
    "    return_sequences=True,\n",
    "    activation=\"relu\",\n",
    ")(x)\n",
    "x = layers.BatchNormalization()(x)\n",
    "x = layers.ConvLSTM2D(\n",
    "    filters=64,\n",
    "    kernel_size=(1, 1),\n",
    "    padding=\"same\",\n",
    "    return_sequences=True,\n",
    "    activation=\"relu\",\n",
    ")(x)\n",
    "x = layers.Conv3D(\n",
    "    filters=1, kernel_size=(3, 3, 3), activation=\"sigmoid\", padding=\"same\"\n",
    ")(x)\n",
    "\n",
    "# Next, we will build the complete model and compile it.\n",
    "model = keras.models.Model(inp, x)\n",
    "model.compile(\n",
    "    loss=keras.losses.binary_crossentropy, optimizer=keras.optimizers.Adam(),\n",
    ")"
   ]
  },
  {
   "cell_type": "code",
   "execution_count": null,
   "metadata": {
    "scrolled": true
   },
   "outputs": [],
   "source": [
    "# Define some callbacks to improve training.\n",
    "early_stopping = keras.callbacks.EarlyStopping(monitor=\"val_loss\", patience=10)\n",
    "reduce_lr = keras.callbacks.ReduceLROnPlateau(monitor=\"val_loss\", patience=5)\n",
    "\n",
    "# Define modifiable training hyperparameters.\n",
    "epochs = 20\n",
    "batch_size = 5\n",
    "\n",
    "# Fit the model to the training data.\n",
    "model.fit(\n",
    "    training_x,\n",
    "    training_y,\n",
    "    batch_size=batch_size,\n",
    "    epochs=epochs,\n",
    "#     validation_data=(x_val, y_val),\n",
    "    callbacks=[early_stopping, reduce_lr],\n",
    ")"
   ]
  },
  {
   "cell_type": "code",
   "execution_count": null,
   "metadata": {},
   "outputs": [],
   "source": [
    "plt.imshow(ypred[21].reshape((150,150)))"
   ]
  },
  {
   "cell_type": "code",
   "execution_count": null,
   "metadata": {},
   "outputs": [],
   "source": []
  },
  {
   "cell_type": "code",
   "execution_count": null,
   "metadata": {},
   "outputs": [],
   "source": []
  },
  {
   "cell_type": "code",
   "execution_count": null,
   "metadata": {},
   "outputs": [],
   "source": []
  },
  {
   "cell_type": "code",
   "execution_count": null,
   "metadata": {},
   "outputs": [],
   "source": []
  },
  {
   "cell_type": "code",
   "execution_count": null,
   "metadata": {},
   "outputs": [],
   "source": []
  },
  {
   "cell_type": "code",
   "execution_count": null,
   "metadata": {},
   "outputs": [],
   "source": []
  },
  {
   "cell_type": "code",
   "execution_count": null,
   "metadata": {},
   "outputs": [],
   "source": []
  },
  {
   "cell_type": "code",
   "execution_count": null,
   "metadata": {},
   "outputs": [],
   "source": []
  },
  {
   "cell_type": "code",
   "execution_count": null,
   "metadata": {},
   "outputs": [],
   "source": []
  },
  {
   "cell_type": "markdown",
   "metadata": {
    "id": "V9o125Z8DVSe"
   },
   "source": [
    "Prepare the training and testing dataset"
   ]
  },
  {
   "cell_type": "code",
   "execution_count": null,
   "metadata": {
    "colab": {
     "base_uri": "https://localhost:8080/"
    },
    "id": "dv29ZglnGLzH",
    "outputId": "22df8d71-a886-4741-ebd4-7c098e8d2ced",
    "scrolled": true
   },
   "outputs": [],
   "source": [
    "training_x=[]\n",
    "training_y=[]\n",
    "window=20\n",
    "\n",
    "for iter in range(0,589):\n",
    "  print(\"Preparing training data \", iter)\n",
    "  trining_data_temp=np.array(Image.open('./images/'+data.FileName[iter]))[:,:,1]\n",
    "  for i in range(1,window):\n",
    "    temp = np.array(Image.open('./images/'+data.FileName[i+iter]))[:,:,1]\n",
    "    trining_data_temp=np.concatenate([temp,trining_data_temp],axis=1)\n",
    "\n",
    "  training_x.append(trining_data_temp)\n",
    "  training_y.append(np.array(Image.open('./images/'+data.FileName[i+1+iter]))[:,:,1])\n",
    "  \n",
    "\n",
    "\n"
   ]
  },
  {
   "cell_type": "code",
   "execution_count": null,
   "metadata": {
    "id": "M4cBNHdFIwyr"
   },
   "outputs": [],
   "source": []
  },
  {
   "cell_type": "code",
   "execution_count": null,
   "metadata": {
    "colab": {
     "base_uri": "https://localhost:8080/"
    },
    "id": "Az4FF4hSHKrJ",
    "outputId": "df249149-cbb2-4fa4-93f0-47c8ad935781"
   },
   "outputs": [],
   "source": [
    "\n",
    "temp = np.array(Image.open('./images/prb-heat-map-1-2.png'))\n",
    "temp1 = np.array(Image.open('./images/prb-heat-map-1-2.png'))\n",
    "\n",
    "temp3=np.concatenate([temp,temp1],axis=2)\n",
    "temp3.shape"
   ]
  },
  {
   "cell_type": "code",
   "execution_count": null,
   "metadata": {
    "colab": {
     "base_uri": "https://localhost:8080/"
    },
    "id": "0oWTzg9VHKsg",
    "outputId": "51048f28-1179-433b-e2cb-54f706fda8f5"
   },
   "outputs": [],
   "source": [
    "temp1.shape"
   ]
  },
  {
   "cell_type": "code",
   "execution_count": null,
   "metadata": {
    "id": "131OXpB8HKxZ"
   },
   "outputs": [],
   "source": []
  },
  {
   "cell_type": "code",
   "execution_count": null,
   "metadata": {
    "id": "7w9HUWGOAZHj"
   },
   "outputs": [],
   "source": [
    "# the data  size is small 744, take 20% for test ing ~ 150 data points (image)\n",
    "temp = Image.open('./images/prb-heat-map-1-2.png')\n",
    "temp=np.array(temp)"
   ]
  },
  {
   "cell_type": "code",
   "execution_count": null,
   "metadata": {
    "colab": {
     "base_uri": "https://localhost:8080/"
    },
    "id": "qBZUQv4yCY0C",
    "outputId": "0626758b-5f4f-417f-fa77-5955b81342ad"
   },
   "outputs": [],
   "source": [
    "temp[:,:,3].shape"
   ]
  },
  {
   "cell_type": "code",
   "execution_count": null,
   "metadata": {
    "colab": {
     "base_uri": "https://localhost:8080/",
     "height": 286
    },
    "id": "Dtn2OnK5E7ey",
    "outputId": "a20b4d1a-a7f7-495e-e0ef-95d8482a60db"
   },
   "outputs": [],
   "source": [
    "plt.imshow(temp[:,:,:4])"
   ]
  },
  {
   "cell_type": "code",
   "execution_count": null,
   "metadata": {
    "id": "rxqu9r6XFOQU"
   },
   "outputs": [],
   "source": []
  }
 ],
 "metadata": {
  "colab": {
   "name": "cnn_lstm",
   "provenance": []
  },
  "kernelspec": {
   "display_name": "Python 3 (ipykernel)",
   "language": "python",
   "name": "python3"
  },
  "language_info": {
   "codemirror_mode": {
    "name": "ipython",
    "version": 3
   },
   "file_extension": ".py",
   "mimetype": "text/x-python",
   "name": "python",
   "nbconvert_exporter": "python",
   "pygments_lexer": "ipython3",
   "version": "3.9.11"
  }
 },
 "nbformat": 4,
 "nbformat_minor": 1
}
